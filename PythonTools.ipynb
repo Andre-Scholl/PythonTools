{
 "cells": [
  {
   "cell_type": "markdown",
   "id": "3d07909a-33f0-4388-9802-ce781ab9edfa",
   "metadata": {},
   "source": [
    "# PythonTools course"
   ]
  },
  {
   "cell_type": "markdown",
   "id": "c6f02059-a9a4-47e6-bf61-d8aecb53074e",
   "metadata": {},
   "source": [
    "This is a simple notebook to demonstrate:\n",
    "- how to use notebooks in Jupyter, VSCode\n",
    "- how to upload it to GitHub and use it online with VSCode\n",
    "- how to use it for documentation using Jupyter-Book"
   ]
  },
  {
   "cell_type": "code",
   "execution_count": 5,
   "id": "158f65ba-d6bc-4cf5-a21d-f4ab0e49ce86",
   "metadata": {},
   "outputs": [],
   "source": [
    "import skimage\n",
    "import numpy as np\n",
    "\n",
    "image = np.random.randint(0,100, (20,20))\n",
    "\n",
    "im_filtered = skimage.filters.gaussian(image, sigma=1, preserve_range=True)"
   ]
  },
  {
   "cell_type": "code",
   "execution_count": null,
   "id": "49e15e70-62b5-4c19-85bf-6ea5727dc124",
   "metadata": {},
   "outputs": [],
   "source": []
  }
 ],
 "metadata": {
  "kernelspec": {
   "display_name": "Python 3 (ipykernel)",
   "language": "python",
   "name": "python3"
  },
  "language_info": {
   "codemirror_mode": {
    "name": "ipython",
    "version": 3
   },
   "file_extension": ".py",
   "mimetype": "text/x-python",
   "name": "python",
   "nbconvert_exporter": "python",
   "pygments_lexer": "ipython3",
   "version": "3.10.11"
  }
 },
 "nbformat": 4,
 "nbformat_minor": 5
}
